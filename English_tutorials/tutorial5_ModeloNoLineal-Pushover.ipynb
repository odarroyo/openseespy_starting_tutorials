{
 "cells": [
  {
   "cell_type": "markdown",
   "id": "b325feb3",
   "metadata": {},
   "source": [
    "# Third OpenSeesPy Script: Nonlinear Model of a Frame and Pushover Analysis\n",
    "#### Autor: Orlando Arroyo\n",
    "#### email: odarroyo@uc.cl\n",
    "#### based on the example available at: https://opensees.berkeley.edu/wiki/index.php?title=OpenSees_Example_5._2D_Frame,_3-story_3-bay,_Reinforced-Concrete_Section_%26_Steel_W-Section"
   ]
  },
  {
   "cell_type": "markdown",
   "id": "31b39ece",
   "metadata": {},
   "source": [
    "## Loading necessary libraries"
   ]
  },
  {
   "cell_type": "code",
   "execution_count": 1,
   "id": "c1ae5ce6",
   "metadata": {},
   "outputs": [],
   "source": [
    "from openseespy.opensees import *\n",
    "import opsvis as opsv # You need to call opsvis to plot the model being generated.\n",
    "import matplotlib.pyplot as plt # This is a standard library for plotting various elements and creating figures.\n",
    "import opseestools.analisis as an # Analysis library with different options.\n",
    "import numpy as np # Numpy library for mathematical operations.\n"
   ]
  },
  {
   "cell_type": "markdown",
   "id": "f3b4812b",
   "metadata": {},
   "source": [
    "## Creation of the model"
   ]
  },
  {
   "cell_type": "code",
   "execution_count": 2,
   "id": "c993e963",
   "metadata": {},
   "outputs": [],
   "source": [
    "wipe() # It is good practice to start with a wipe.\n",
    "model('basic','-ndm',2,'-ndf',3) # Creation of a two-dimensional model with three degrees of freedom per node.\n"
   ]
  },
  {
   "cell_type": "markdown",
   "id": "3f4c5194",
   "metadata": {},
   "source": [
    "## Definition of nodes and supports"
   ]
  },
  {
   "cell_type": "code",
   "execution_count": 3,
   "id": "ea932bbe",
   "metadata": {},
   "outputs": [
    {
     "data": {
      "text/plain": [
       "<AxesSubplot:>"
      ]
     },
     "execution_count": 3,
     "metadata": {},
     "output_type": "execute_result"
    },
    {
     "data": {
      "image/png": "[encoded data removed]",
      "text/plain": [
       "<Figure size 432x288 with 1 Axes>"
      ]
     },
     "metadata": {
      "needs_background": "light"
     },
     "output_type": "display_data"
    }
   ],
   "source": [
    "x1 = 6.0\n",
    "x2 = 10.0\n",
    "y1 = 4.0\n",
    "y2 = 7.0\n",
    "\n",
    "node(1,0.0,0.0) # Definition of node 1 with X and Y coordinates of 0.0 and 0.0.\n",
    "node(2,x1,0.0)\n",
    "node(3,x2,0.0)\n",
    "node(4,0.0,y1)\n",
    "node(5,x1,y1)\n",
    "node(6,x2,y1)\n",
    "node(7,0.0,y2)\n",
    "node(8,x1,y2)\n",
    "node(9,x2,y2)\n",
    "\n",
    "# Construction supports\n",
    "empotrado = [1,1,1] # Restrict degrees of freedom X, Y, Z.\n",
    "grado2 = [1,1,0] # Restrict degrees of freedom X, Y, leaving Z free.\n",
    "\n",
    "fix(1,*empotrado)\n",
    "fix(2,*empotrado)\n",
    "fix(3,*grado2)\n",
    "\n",
    "# Visualization of the nodes\n",
    "opsv.plot_model()"
   ]
  },
  {
   "cell_type": "markdown",
   "id": "2613e054",
   "metadata": {},
   "source": [
    "## Definition of diaphragms and masses"
   ]
  },
  {
   "cell_type": "code",
   "execution_count": 4,
   "id": "6adc6718",
   "metadata": {},
   "outputs": [],
   "source": [
    "# Diaphragms\n",
    "equalDOF(4,5,1) # Make the displacement of node 5 in X equal to that of node 4.\n",
    "equalDOF(4,6,1)\n",
    "equalDOF(7,8,1) \n",
    "equalDOF(7,9,1)\n",
    "\n",
    "# Masses\n",
    "mass(4,1,1,0) # Assignment of masses in X and Y to node 4.\n",
    "mass(5,1,1,0)\n",
    "mass(6,1,1,0)\n",
    "mass(7,1,1,0)\n",
    "mass(8,1,1,0)\n",
    "mass(9,1,1,0)"
   ]
  },
  {
   "cell_type": "markdown",
   "id": "6f10606e",
   "metadata": {},
   "source": [
    "## Definition of materials"
   ]
  },
  {
   "cell_type": "code",
   "execution_count": 5,
   "id": "ba671fb3",
   "metadata": {},
   "outputs": [],
   "source": [
    "# Unconfined concrete\n",
    "E = 24000000.0 # 24 GPa converted to KPa to make it consistent with the model units.\n",
    "fc = 28000.0\n",
    "ec = 2*fc/E\n",
    "fcu = 0.2*fc\n",
    "ecu = 0.006\n",
    "\n",
    "# Confined concrete\n",
    "k=1.3\n",
    "fcc=28000.0*k\n",
    "ecc= 2*fcc/E\n",
    "fucc=0.2*fcc\n",
    "eucc=0.02\n",
    "\n",
    "# Steel\n",
    "Fy=420000.0\n",
    "Es=210000000.0\n",
    "\n",
    "uniaxialMaterial('Concrete01', 2, fc, ec, fcu, ecu)\n",
    "uniaxialMaterial('Concrete01', 1, fcc, ecc, fucc, eucc)\n",
    "uniaxialMaterial('Steel01', 3, Fy, Es, 0.01)"
   ]
  },
  {
   "cell_type": "markdown",
   "id": "e39619ec",
   "metadata": {},
   "source": [
    "## Fiber section creation\n"
   ]
  },
  {
   "cell_type": "code",
   "execution_count": 6,
   "id": "70d447b5",
   "metadata": {},
   "outputs": [
    {
     "data": {
      "text/plain": [
       "<Figure size 432x288 with 0 Axes>"
      ]
     },
     "metadata": {},
     "output_type": "display_data"
    },
    {
     "data": {
      "image/png": "[encoded data removed]",
      "text/plain": [
       "<Figure size 432x288 with 1 Axes>"
      ]
     },
     "metadata": {
      "needs_background": "light"
     },
     "output_type": "display_data"
    }
   ],
   "source": [
    "# An example of fiber section creation\n",
    "# Section of 30 x 30 cm with 8 # 4\n",
    "\n",
    "Bcol = 0.3\n",
    "Hcol = 0.3\n",
    "c = 0.05  # Covering.\n",
    "\n",
    "# Fiber section creation\n",
    "y1col = Hcol/2.0\n",
    "z1col = Bcol/2.0\n",
    "\n",
    "y2col = 0.5*(Hcol-2*c)/3.0\n",
    "\n",
    "nFibZ = 1\n",
    "nFibZcore= 10\n",
    "nFib = 20\n",
    "nFibCover, nFibCore = 3, 16\n",
    "As4 = 0.000127\n",
    "As5 = 0.0002\n",
    "As7 = 0.000387\n",
    "\n",
    "sec30x30 = 1 # Tag section.\n",
    "\n",
    "# The opsvis library will be used to visualize the section\n",
    "s30x30 = [['section', 'Fiber', sec30x30, '-GJ', 1.0e6],\n",
    "             ['patch', 'rect', 1, nFibCore, nFibZcore, c-y1col, c-z1col, y1col-c, z1col-c],\n",
    "             ['patch', 'rect', 2, nFib, nFibZ, -y1col, -z1col, y1col, c-z1col],\n",
    "             ['patch', 'rect', 2, nFib, nFibZ, -y1col, z1col-c, y1col, z1col],\n",
    "             ['patch', 'rect', 2, nFibCover, nFibZ, -y1col, c-z1col, c-y1col, z1col-c],\n",
    "             ['patch', 'rect', 2, nFibCover, nFibZ, y1col-c, c-z1col, y1col, z1col-c],\n",
    "             ['layer', 'straight', 3, 3, As4, y1col-c, z1col-c, y1col-c, c-z1col],\n",
    "             ['layer', 'straight', 3, 2, As4, y2col, z1col-c, y2col, c-z1col],\n",
    "             ['layer', 'straight', 3, 2, As4, -y2col, z1col-c, -y2col, c-z1col],\n",
    "             ['layer', 'straight', 3, 3, As4, c-y1col, z1col-c, c-y1col, c-z1col]]\n",
    "\n",
    "# The following commands draw the section to verify that everything is correct\n",
    "matcolor = ['r', 'lightgrey', 'gold', 'w', 'w', 'w']\n",
    "plt.figure()\n",
    "opsv.plot_fiber_section(s30x30, matcolor=matcolor)\n",
    "plt.axis('equal')\n",
    "\n",
    "# The following command properly creates the section by executing the code defined in the list.\n",
    "opsv.fib_sec_list_to_cmds(s30x30)\n",
    "\n",
    "# To generate the fiber elements, you need to specify the integration points and the integration scheme.\n",
    "pint = 5 # puntos de integración\n",
    "beamIntegration('Lobatto', sec30x30, sec30x30,pint) # Integration scheme"
   ]
  },
  {
   "cell_type": "markdown",
   "id": "94aede7f",
   "metadata": {},
   "source": [
    "## Definition of elements"
   ]
  },
  {
   "cell_type": "code",
   "execution_count": 7,
   "id": "20d63594",
   "metadata": {},
   "outputs": [
    {
     "data": {
      "text/plain": [
       "<AxesSubplot:>"
      ]
     },
     "execution_count": 7,
     "metadata": {},
     "output_type": "execute_result"
    },
    {
     "data": {
      "image/png": "[encoded data removed]",
      "text/plain": [
       "<Figure size 432x288 with 1 Axes>"
      ]
     },
     "metadata": {
      "needs_background": "light"
     },
     "output_type": "display_data"
    }
   ],
   "source": [
    "# TElement transformations\n",
    "lineal = 1\n",
    "geomTransf('Linear',lineal) # Linear transformation\n",
    "\n",
    "pdelta = 2\n",
    "geomTransf('PDelta',pdelta) # PDelta transformation\n",
    "\n",
    "# Columns\n",
    "element('forceBeamColumn',1, 1,4 ,pdelta,sec30x30)\n",
    "element('forceBeamColumn',2, 4,7 ,pdelta,sec30x30)\n",
    "element('forceBeamColumn',3, 2,5 ,pdelta,sec30x30)\n",
    "element('forceBeamColumn',4, 5,8 ,pdelta,sec30x30)\n",
    "element('forceBeamColumn',5, 3,6 ,pdelta,sec30x30) \n",
    "element('forceBeamColumn',6, 6,9 ,pdelta,sec30x30) \n",
    "\n",
    "# Beams\n",
    "element('forceBeamColumn',7, 4,5 ,lineal,sec30x30)\n",
    "element('forceBeamColumn',8, 5,6 ,lineal,sec30x30)\n",
    "element('forceBeamColumn',9, 7,8 ,lineal,sec30x30) \n",
    "element('forceBeamColumn',10, 8,9 ,lineal,sec30x30) \n",
    "\n",
    "# Visualize the model\n",
    "opsv.plot_model()"
   ]
  },
  {
   "cell_type": "markdown",
   "id": "101b9e8b",
   "metadata": {},
   "source": [
    "#### The red points correspond to the locations of the integration points"
   ]
  },
  {
   "cell_type": "markdown",
   "id": "e3a1c06c",
   "metadata": {},
   "source": [
    "## Model loads"
   ]
  },
  {
   "cell_type": "code",
   "execution_count": 8,
   "id": "cb0fbb32",
   "metadata": {},
   "outputs": [],
   "source": [
    "timeSeries('Linear', 1)\n",
    "pattern('Plain',1,1)\n",
    "# The eleload command assigns a load to the element:\n",
    "vigas = [7,8,9,10] # Element tags beams\n",
    "wviga = 20 # Distributed load on the beam\n",
    "eleLoad('-ele',*vigas,'-type','beamUniform',-wviga) # Application of the load on the beam"
   ]
  },
  {
   "cell_type": "markdown",
   "id": "10060862",
   "metadata": {},
   "source": [
    "## Calculation of eigenvalues and modal shapes"
   ]
  },
  {
   "cell_type": "code",
   "execution_count": 9,
   "id": "241bf0f9",
   "metadata": {},
   "outputs": [
    {
     "name": "stdout",
     "output_type": "stream",
     "text": [
      "El periodo fundamental es:  0.241677010681145\n"
     ]
    },
    {
     "data": {
      "image/png": "[encoded data removed]",
      "text/plain": [
       "<Figure size 432x288 with 1 Axes>"
      ]
     },
     "metadata": {
      "needs_background": "light"
     },
     "output_type": "display_data"
    }
   ],
   "source": [
    "eig= eigen(1) # The `eigen` command calculates the frequencies for the specified number of modes. In this case, 1 mode is specified.\n",
    "T1 = 2*3.1416/np.sqrt(eig[0]) # The corresponding period is obtained.\n",
    "print('El periodo fundamental es: ',T1) # Se imprime el resultado.\n",
    "\n",
    "# Visualization of the first modal shape\n",
    "opsv.plot_mode_shape(1)"
   ]
  },
  {
   "cell_type": "markdown",
   "id": "64b5e933",
   "metadata": {},
   "source": [
    "## Analysis of the model and representation of the deformation"
   ]
  },
  {
   "cell_type": "code",
   "execution_count": 10,
   "id": "bf0ae18d",
   "metadata": {},
   "outputs": [
    {
     "name": "stdout",
     "output_type": "stream",
     "text": [
      "Gravity analysis completed\n"
     ]
    },
    {
     "data": {
      "text/plain": [
       "201.77589274222515"
      ]
     },
     "execution_count": 10,
     "metadata": {},
     "output_type": "execute_result"
    },
    {
     "data": {
      "text/plain": [
       "<Figure size 432x288 with 0 Axes>"
      ]
     },
     "metadata": {},
     "output_type": "display_data"
    },
    {
     "data": {
      "image/png": "[encoded data removed]",
      "text/plain": [
       "<Figure size 432x288 with 1 Axes>"
      ]
     },
     "metadata": {
      "needs_background": "light"
     },
     "output_type": "display_data"
    },
    {
     "data": {
      "text/plain": [
       "<Figure size 432x288 with 0 Axes>"
      ]
     },
     "metadata": {},
     "output_type": "display_data"
    },
    {
     "data": {
      "image/png": "[encoded data removed]",
      "text/plain": [
       "<Figure size 432x288 with 1 Axes>"
      ]
     },
     "metadata": {
      "needs_background": "light"
     },
     "output_type": "display_data"
    }
   ],
   "source": [
    "# The analysis library that was called is used.\n",
    "\n",
    "an.gravedad()\n",
    "loadConst('-time',0.0) # This command leaves the gravity loads fixed\n",
    "\n",
    "# Model representation with loads\n",
    "plt.figure()\n",
    "opsv.plot_loads_2d()\n",
    "\n",
    "# Deformed representation\n",
    "plt.figure()\n",
    "opsv.plot_defo()"
   ]
  },
  {
   "cell_type": "markdown",
   "id": "fc010ae4",
   "metadata": {},
   "source": [
    "## Pushover analysis"
   ]
  },
  {
   "cell_type": "markdown",
   "id": "f944937d",
   "metadata": {},
   "source": [
    "##### Definition of the horizontal load pattern"
   ]
  },
  {
   "cell_type": "code",
   "execution_count": 11,
   "id": "8a44b2ef",
   "metadata": {},
   "outputs": [],
   "source": [
    "# A new pattern of loads is created. In this case it will be a triangular pattern\n",
    "# A load of 1/3 will be applied at node 4 and 2/3 at node 7\n",
    "timeSeries('Linear',2)\n",
    "pattern('Plain',2,2)\n",
    "load(4,1.0/3.0,0.0,0.0)\n",
    "load(7,2.0/3.0,0.0,0.0)"
   ]
  },
  {
   "cell_type": "markdown",
   "id": "dac7aaac",
   "metadata": {},
   "source": [
    "##### Analysis "
   ]
  },
  {
   "cell_type": "markdown",
   "id": "f9f2d0b1",
   "metadata": {},
   "source": [
    "The analysis library is used and pushover2 is called.\n",
    "\n",
    "The routine requires the following input values:\n",
    "\n",
    "1) Limit displacement: 5% of the height y2 in our case\n",
    "\n",
    "2) Displacement range: 0.001m in our model\n",
    "\n",
    "3) Control node: node 9 in this exercise\n",
    "\n",
    "4) Degree of freedom of control: X (1) in our case"
   ]
  },
  {
   "cell_type": "code",
   "execution_count": 12,
   "id": "c04b9380",
   "metadata": {},
   "outputs": [
    {
     "data": {
      "image/png": "[encoded data removed]",
      "text/plain": [
       "<Figure size 432x288 with 1 Axes>"
      ]
     },
     "metadata": {
      "needs_background": "light"
     },
     "output_type": "display_data"
    }
   ],
   "source": [
    "dtecho, Vbasal = an.pushover2(0.05*y2, 0.001, 9, 1)"
   ]
  }
 ],
 "metadata": {
  "kernelspec": {
   "display_name": "Python 3 (ipykernel)",
   "language": "python",
   "name": "python3"
  },
  "language_info": {
   "codemirror_mode": {
    "name": "ipython",
    "version": 3
   },
   "file_extension": ".py",
   "mimetype": "text/x-python",
   "name": "python",
   "nbconvert_exporter": "python",
   "pygments_lexer": "ipython3",
   "version": "3.11.5"
  }
 },
 "nbformat": 4,
 "nbformat_minor": 5
}
