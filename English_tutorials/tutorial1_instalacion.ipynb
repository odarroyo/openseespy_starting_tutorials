{
 "cells": [
  {
   "cell_type": "markdown",
   "id": "e9a0e4e8-a0d2-4b4f-8c12-78949a07fc04",
   "metadata": {},
   "source": [
    "## 1. Install OpenSeesPy"
   ]
  },
  {
   "cell_type": "code",
   "execution_count": 2,
   "id": "f77126df-ac98-4f5c-9621-70599d6d5720",
   "metadata": {
    "tags": []
   },
   "outputs": [],
   "source": [
    "pip install openseespy\n",
    "pip install opsvis\n",
    "pip install opseestools\n",
    "pip install vfo"
   ]
  },
  {
   "cell_type": "code",
   "execution_count": null,
   "id": "fdbdfd90-a22a-474b-b79d-6d16f8839a8a",
   "metadata": {},
   "outputs": [],
   "source": []
  }
 ],
 "metadata": {
  "kernelspec": {
   "display_name": "Python 3 (ipykernel)",
   "language": "python",
   "name": "python3"
  },
  "language_info": {
   "codemirror_mode": {
    "name": "ipython",
    "version": 3
   },
   "file_extension": ".py",
   "mimetype": "text/x-python",
   "name": "python",
   "nbconvert_exporter": "python",
   "pygments_lexer": "ipython3",
   "version": "3.11.5"
  }
 },
 "nbformat": 4,
 "nbformat_minor": 5
}
